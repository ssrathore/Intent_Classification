{
 "cells": [
  {
   "cell_type": "code",
   "execution_count": 4,
   "id": "041ce3b2",
   "metadata": {},
   "outputs": [
    {
     "name": "stderr",
     "output_type": "stream",
     "text": [
      "c:\\Users\\user\\Desktop\\Souharda\\myenv\\lib\\site-packages\\sklearn\\base.py:440: InconsistentVersionWarning: Trying to unpickle estimator LabelEncoder from version 1.6.1 when using version 1.7.0. This might lead to breaking code or invalid results. Use at your own risk. For more info please refer to:\n",
      "https://scikit-learn.org/stable/model_persistence.html#security-maintainability-limitations\n",
      "  warnings.warn(\n"
     ]
    },
    {
     "name": "stdout",
     "output_type": "stream",
     "text": [
      "\n",
      "🚀 Trying config: {'batch_size': 16, 'boost_factor': 1.0, 'dropout': 0.15, 'learning_rate': 3e-05, 'warmup_proportion': 0.05, 'weight_decay': 0.01}\n"
     ]
    },
    {
     "name": "stderr",
     "output_type": "stream",
     "text": [
      "Training: 100%|██████████| 754/754 [03:26<00:00,  3.66it/s]\n",
      "Evaluating: 100%|██████████| 95/95 [00:09<00:00, 10.04it/s]\n"
     ]
    },
    {
     "name": "stdout",
     "output_type": "stream",
     "text": [
      "Epoch 1: train_acc=0.3888, val_acc=0.5236\n"
     ]
    },
    {
     "name": "stderr",
     "output_type": "stream",
     "text": [
      "Training: 100%|██████████| 754/754 [03:37<00:00,  3.47it/s]\n",
      "Evaluating: 100%|██████████| 95/95 [00:09<00:00, 10.02it/s]\n"
     ]
    },
    {
     "name": "stdout",
     "output_type": "stream",
     "text": [
      "Epoch 2: train_acc=0.6197, val_acc=0.6284\n"
     ]
    },
    {
     "name": "stderr",
     "output_type": "stream",
     "text": [
      "Training: 100%|██████████| 754/754 [03:40<00:00,  3.42it/s]\n",
      "Evaluating: 100%|██████████| 95/95 [00:09<00:00,  9.95it/s]\n"
     ]
    },
    {
     "name": "stdout",
     "output_type": "stream",
     "text": [
      "Epoch 3: train_acc=0.7521, val_acc=0.6835\n"
     ]
    },
    {
     "name": "stderr",
     "output_type": "stream",
     "text": [
      "Training: 100%|██████████| 754/754 [03:33<00:00,  3.54it/s]\n",
      "Evaluating: 100%|██████████| 95/95 [00:09<00:00, 10.11it/s]\n"
     ]
    },
    {
     "name": "stdout",
     "output_type": "stream",
     "text": [
      "Epoch 4: train_acc=0.8526, val_acc=0.7213\n"
     ]
    },
    {
     "name": "stderr",
     "output_type": "stream",
     "text": [
      "Training: 100%|██████████| 754/754 [03:31<00:00,  3.56it/s]\n",
      "Evaluating: 100%|██████████| 95/95 [00:09<00:00, 10.10it/s]\n"
     ]
    },
    {
     "name": "stdout",
     "output_type": "stream",
     "text": [
      "Epoch 5: train_acc=0.9177, val_acc=0.7691\n"
     ]
    },
    {
     "name": "stderr",
     "output_type": "stream",
     "text": [
      "Training: 100%|██████████| 754/754 [03:31<00:00,  3.56it/s]\n",
      "Evaluating: 100%|██████████| 95/95 [00:09<00:00, 10.09it/s]\n"
     ]
    },
    {
     "name": "stdout",
     "output_type": "stream",
     "text": [
      "Epoch 6: train_acc=0.9485, val_acc=0.7870\n"
     ]
    },
    {
     "name": "stderr",
     "output_type": "stream",
     "text": [
      "Training: 100%|██████████| 754/754 [03:31<00:00,  3.56it/s]\n",
      "Evaluating: 100%|██████████| 95/95 [00:09<00:00, 10.10it/s]\n"
     ]
    },
    {
     "name": "stdout",
     "output_type": "stream",
     "text": [
      "Epoch 7: train_acc=0.9655, val_acc=0.7936\n"
     ]
    },
    {
     "name": "stderr",
     "output_type": "stream",
     "text": [
      "Training: 100%|██████████| 754/754 [03:32<00:00,  3.56it/s]\n",
      "Evaluating: 100%|██████████| 95/95 [00:09<00:00, 10.06it/s]\n"
     ]
    },
    {
     "name": "stdout",
     "output_type": "stream",
     "text": [
      "Epoch 8: train_acc=0.9771, val_acc=0.7996\n"
     ]
    },
    {
     "name": "stderr",
     "output_type": "stream",
     "text": [
      "Training: 100%|██████████| 754/754 [03:32<00:00,  3.55it/s]\n",
      "Evaluating: 100%|██████████| 95/95 [00:09<00:00, 10.07it/s]\n"
     ]
    },
    {
     "name": "stdout",
     "output_type": "stream",
     "text": [
      "Epoch 9: train_acc=0.9834, val_acc=0.8056\n"
     ]
    },
    {
     "name": "stderr",
     "output_type": "stream",
     "text": [
      "Training: 100%|██████████| 754/754 [03:31<00:00,  3.57it/s]\n",
      "Evaluating: 100%|██████████| 95/95 [00:09<00:00, 10.05it/s]\n"
     ]
    },
    {
     "name": "stdout",
     "output_type": "stream",
     "text": [
      "Epoch 10: train_acc=0.9858, val_acc=0.8042\n",
      "\n",
      "🚀 Trying config: {'batch_size': 16, 'boost_factor': 1.0, 'dropout': 0.15, 'learning_rate': 3e-05, 'warmup_proportion': 0.05, 'weight_decay': 0.05}\n"
     ]
    },
    {
     "name": "stderr",
     "output_type": "stream",
     "text": [
      "Training: 100%|██████████| 754/754 [03:32<00:00,  3.54it/s]\n",
      "Evaluating: 100%|██████████| 95/95 [00:09<00:00, 10.11it/s]\n"
     ]
    },
    {
     "name": "stdout",
     "output_type": "stream",
     "text": [
      "Epoch 1: train_acc=0.3880, val_acc=0.5421\n"
     ]
    },
    {
     "name": "stderr",
     "output_type": "stream",
     "text": [
      "Training: 100%|██████████| 754/754 [03:32<00:00,  3.54it/s]\n",
      "Evaluating: 100%|██████████| 95/95 [00:09<00:00, 10.08it/s]\n"
     ]
    },
    {
     "name": "stdout",
     "output_type": "stream",
     "text": [
      "Epoch 2: train_acc=0.6216, val_acc=0.6131\n"
     ]
    },
    {
     "name": "stderr",
     "output_type": "stream",
     "text": [
      "Training: 100%|██████████| 754/754 [03:32<00:00,  3.55it/s]\n",
      "Evaluating: 100%|██████████| 95/95 [00:09<00:00, 10.09it/s]\n"
     ]
    },
    {
     "name": "stdout",
     "output_type": "stream",
     "text": [
      "Epoch 3: train_acc=0.7596, val_acc=0.7014\n"
     ]
    },
    {
     "name": "stderr",
     "output_type": "stream",
     "text": [
      "Training: 100%|██████████| 754/754 [03:32<00:00,  3.55it/s]\n",
      "Evaluating: 100%|██████████| 95/95 [00:09<00:00, 10.10it/s]\n"
     ]
    },
    {
     "name": "stdout",
     "output_type": "stream",
     "text": [
      "Epoch 4: train_acc=0.8596, val_acc=0.7419\n"
     ]
    },
    {
     "name": "stderr",
     "output_type": "stream",
     "text": [
      "Training: 100%|██████████| 754/754 [03:31<00:00,  3.56it/s]\n",
      "Evaluating: 100%|██████████| 95/95 [00:09<00:00, 10.08it/s]\n"
     ]
    },
    {
     "name": "stdout",
     "output_type": "stream",
     "text": [
      "Epoch 5: train_acc=0.9162, val_acc=0.7525\n"
     ]
    },
    {
     "name": "stderr",
     "output_type": "stream",
     "text": [
      "Training: 100%|██████████| 754/754 [03:32<00:00,  3.55it/s]\n",
      "Evaluating: 100%|██████████| 95/95 [00:09<00:00, 10.10it/s]\n"
     ]
    },
    {
     "name": "stdout",
     "output_type": "stream",
     "text": [
      "Epoch 6: train_acc=0.9465, val_acc=0.7790\n"
     ]
    },
    {
     "name": "stderr",
     "output_type": "stream",
     "text": [
      "Training: 100%|██████████| 754/754 [03:32<00:00,  3.55it/s]\n",
      "Evaluating: 100%|██████████| 95/95 [00:09<00:00, 10.10it/s]\n"
     ]
    },
    {
     "name": "stdout",
     "output_type": "stream",
     "text": [
      "Epoch 7: train_acc=0.9677, val_acc=0.7877\n"
     ]
    },
    {
     "name": "stderr",
     "output_type": "stream",
     "text": [
      "Training: 100%|██████████| 754/754 [03:32<00:00,  3.55it/s]\n",
      "Evaluating: 100%|██████████| 95/95 [00:09<00:00, 10.05it/s]\n"
     ]
    },
    {
     "name": "stdout",
     "output_type": "stream",
     "text": [
      "Epoch 8: train_acc=0.9749, val_acc=0.7923\n"
     ]
    },
    {
     "name": "stderr",
     "output_type": "stream",
     "text": [
      "Training: 100%|██████████| 754/754 [03:32<00:00,  3.55it/s]\n",
      "Evaluating: 100%|██████████| 95/95 [00:09<00:00, 10.09it/s]\n"
     ]
    },
    {
     "name": "stdout",
     "output_type": "stream",
     "text": [
      "Epoch 9: train_acc=0.9813, val_acc=0.8076\n"
     ]
    },
    {
     "name": "stderr",
     "output_type": "stream",
     "text": [
      "Training: 100%|██████████| 754/754 [03:32<00:00,  3.56it/s]\n",
      "Evaluating: 100%|██████████| 95/95 [00:09<00:00, 10.11it/s]\n"
     ]
    },
    {
     "name": "stdout",
     "output_type": "stream",
     "text": [
      "Epoch 10: train_acc=0.9868, val_acc=0.8049\n",
      "\n",
      "🚀 Trying config: {'batch_size': 16, 'boost_factor': 1.0, 'dropout': 0.15, 'learning_rate': 3e-05, 'warmup_proportion': 0.1, 'weight_decay': 0.01}\n"
     ]
    },
    {
     "name": "stderr",
     "output_type": "stream",
     "text": [
      "Training: 100%|██████████| 754/754 [03:38<00:00,  3.46it/s]\n",
      "Evaluating: 100%|██████████| 95/95 [00:09<00:00, 10.16it/s]\n"
     ]
    },
    {
     "name": "stdout",
     "output_type": "stream",
     "text": [
      "Epoch 1: train_acc=0.3516, val_acc=0.5149\n"
     ]
    },
    {
     "name": "stderr",
     "output_type": "stream",
     "text": [
      "Training: 100%|██████████| 754/754 [03:33<00:00,  3.53it/s]\n",
      "Evaluating: 100%|██████████| 95/95 [00:09<00:00, 10.21it/s]\n"
     ]
    },
    {
     "name": "stdout",
     "output_type": "stream",
     "text": [
      "Epoch 2: train_acc=0.5991, val_acc=0.6238\n"
     ]
    },
    {
     "name": "stderr",
     "output_type": "stream",
     "text": [
      "Training: 100%|██████████| 754/754 [03:33<00:00,  3.53it/s]\n",
      "Evaluating: 100%|██████████| 95/95 [00:09<00:00, 10.09it/s]\n"
     ]
    },
    {
     "name": "stdout",
     "output_type": "stream",
     "text": [
      "Epoch 3: train_acc=0.7430, val_acc=0.6423\n"
     ]
    },
    {
     "name": "stderr",
     "output_type": "stream",
     "text": [
      "Training: 100%|██████████| 754/754 [03:31<00:00,  3.56it/s]\n",
      "Evaluating: 100%|██████████| 95/95 [00:09<00:00, 10.12it/s]\n"
     ]
    },
    {
     "name": "stdout",
     "output_type": "stream",
     "text": [
      "Epoch 4: train_acc=0.8429, val_acc=0.7419\n"
     ]
    },
    {
     "name": "stderr",
     "output_type": "stream",
     "text": [
      "Training: 100%|██████████| 754/754 [03:36<00:00,  3.48it/s]\n",
      "Evaluating: 100%|██████████| 95/95 [00:09<00:00,  9.80it/s]\n"
     ]
    },
    {
     "name": "stdout",
     "output_type": "stream",
     "text": [
      "Epoch 5: train_acc=0.9105, val_acc=0.7711\n"
     ]
    },
    {
     "name": "stderr",
     "output_type": "stream",
     "text": [
      "Training: 100%|██████████| 754/754 [03:46<00:00,  3.33it/s]\n",
      "Evaluating: 100%|██████████| 95/95 [00:09<00:00,  9.89it/s]\n"
     ]
    },
    {
     "name": "stdout",
     "output_type": "stream",
     "text": [
      "Epoch 6: train_acc=0.9465, val_acc=0.7817\n"
     ]
    },
    {
     "name": "stderr",
     "output_type": "stream",
     "text": [
      "Training: 100%|██████████| 754/754 [03:46<00:00,  3.33it/s]\n",
      "Evaluating: 100%|██████████| 95/95 [00:09<00:00,  9.86it/s]\n"
     ]
    },
    {
     "name": "stdout",
     "output_type": "stream",
     "text": [
      "Epoch 7: train_acc=0.9643, val_acc=0.7936\n"
     ]
    },
    {
     "name": "stderr",
     "output_type": "stream",
     "text": [
      "Training: 100%|██████████| 754/754 [03:49<00:00,  3.28it/s]\n",
      "Evaluating: 100%|██████████| 95/95 [00:09<00:00,  9.84it/s]\n"
     ]
    },
    {
     "name": "stdout",
     "output_type": "stream",
     "text": [
      "Epoch 8: train_acc=0.9762, val_acc=0.8009\n"
     ]
    },
    {
     "name": "stderr",
     "output_type": "stream",
     "text": [
      "Training: 100%|██████████| 754/754 [03:49<00:00,  3.28it/s]\n",
      "Evaluating: 100%|██████████| 95/95 [00:09<00:00,  9.83it/s]\n"
     ]
    },
    {
     "name": "stdout",
     "output_type": "stream",
     "text": [
      "Epoch 9: train_acc=0.9812, val_acc=0.8009\n"
     ]
    },
    {
     "name": "stderr",
     "output_type": "stream",
     "text": [
      "Training: 100%|██████████| 754/754 [03:46<00:00,  3.32it/s]\n",
      "Evaluating: 100%|██████████| 95/95 [00:09<00:00,  9.84it/s]\n"
     ]
    },
    {
     "name": "stdout",
     "output_type": "stream",
     "text": [
      "Epoch 10: train_acc=0.9865, val_acc=0.8062\n",
      "\n",
      "🚀 Trying config: {'batch_size': 16, 'boost_factor': 1.0, 'dropout': 0.15, 'learning_rate': 3e-05, 'warmup_proportion': 0.1, 'weight_decay': 0.05}\n"
     ]
    },
    {
     "name": "stderr",
     "output_type": "stream",
     "text": [
      "Training: 100%|██████████| 754/754 [03:50<00:00,  3.27it/s]\n",
      "Evaluating: 100%|██████████| 95/95 [00:09<00:00,  9.72it/s]\n"
     ]
    },
    {
     "name": "stdout",
     "output_type": "stream",
     "text": [
      "Epoch 1: train_acc=0.3494, val_acc=0.5156\n"
     ]
    },
    {
     "name": "stderr",
     "output_type": "stream",
     "text": [
      "Training: 100%|██████████| 754/754 [03:49<00:00,  3.28it/s]\n",
      "Evaluating: 100%|██████████| 95/95 [00:09<00:00,  9.73it/s]\n"
     ]
    },
    {
     "name": "stdout",
     "output_type": "stream",
     "text": [
      "Epoch 2: train_acc=0.5777, val_acc=0.6025\n"
     ]
    },
    {
     "name": "stderr",
     "output_type": "stream",
     "text": [
      "Training: 100%|██████████| 754/754 [03:52<00:00,  3.24it/s]\n",
      "Evaluating: 100%|██████████| 95/95 [00:09<00:00,  9.75it/s]\n"
     ]
    },
    {
     "name": "stdout",
     "output_type": "stream",
     "text": [
      "Epoch 3: train_acc=0.7234, val_acc=0.6821\n"
     ]
    },
    {
     "name": "stderr",
     "output_type": "stream",
     "text": [
      "Training: 100%|██████████| 754/754 [03:51<00:00,  3.25it/s]\n",
      "Evaluating: 100%|██████████| 95/95 [00:09<00:00,  9.75it/s]\n"
     ]
    },
    {
     "name": "stdout",
     "output_type": "stream",
     "text": [
      "Epoch 4: train_acc=0.8324, val_acc=0.7253\n"
     ]
    },
    {
     "name": "stderr",
     "output_type": "stream",
     "text": [
      "Training: 100%|██████████| 754/754 [03:50<00:00,  3.28it/s]\n",
      "Evaluating: 100%|██████████| 95/95 [00:09<00:00,  9.73it/s]\n"
     ]
    },
    {
     "name": "stdout",
     "output_type": "stream",
     "text": [
      "Epoch 5: train_acc=0.9019, val_acc=0.7631\n"
     ]
    },
    {
     "name": "stderr",
     "output_type": "stream",
     "text": [
      "Training: 100%|██████████| 754/754 [03:52<00:00,  3.24it/s]\n",
      "Evaluating: 100%|██████████| 95/95 [00:09<00:00,  9.73it/s]\n"
     ]
    },
    {
     "name": "stdout",
     "output_type": "stream",
     "text": [
      "Epoch 6: train_acc=0.9422, val_acc=0.7764\n"
     ]
    },
    {
     "name": "stderr",
     "output_type": "stream",
     "text": [
      "Training: 100%|██████████| 754/754 [03:52<00:00,  3.24it/s]\n",
      "Evaluating: 100%|██████████| 95/95 [00:09<00:00,  9.70it/s]\n"
     ]
    },
    {
     "name": "stdout",
     "output_type": "stream",
     "text": [
      "Epoch 7: train_acc=0.9648, val_acc=0.7810\n"
     ]
    },
    {
     "name": "stderr",
     "output_type": "stream",
     "text": [
      "Training: 100%|██████████| 754/754 [03:52<00:00,  3.24it/s]\n",
      "Evaluating: 100%|██████████| 95/95 [00:09<00:00,  9.70it/s]\n"
     ]
    },
    {
     "name": "stdout",
     "output_type": "stream",
     "text": [
      "Epoch 8: train_acc=0.9727, val_acc=0.7910\n"
     ]
    },
    {
     "name": "stderr",
     "output_type": "stream",
     "text": [
      "Training: 100%|██████████| 754/754 [03:51<00:00,  3.26it/s]\n",
      "Evaluating: 100%|██████████| 95/95 [00:09<00:00,  9.81it/s]\n"
     ]
    },
    {
     "name": "stdout",
     "output_type": "stream",
     "text": [
      "Epoch 9: train_acc=0.9829, val_acc=0.8049\n"
     ]
    },
    {
     "name": "stderr",
     "output_type": "stream",
     "text": [
      "Training: 100%|██████████| 754/754 [03:53<00:00,  3.22it/s]\n",
      "Evaluating: 100%|██████████| 95/95 [00:09<00:00,  9.68it/s]\n"
     ]
    },
    {
     "name": "stdout",
     "output_type": "stream",
     "text": [
      "Epoch 10: train_acc=0.9873, val_acc=0.8009\n",
      "\n",
      "🚀 Trying config: {'batch_size': 16, 'boost_factor': 1.0, 'dropout': 0.15, 'learning_rate': 3e-05, 'warmup_proportion': 0.15, 'weight_decay': 0.01}\n"
     ]
    },
    {
     "name": "stderr",
     "output_type": "stream",
     "text": [
      "Training: 100%|██████████| 754/754 [03:53<00:00,  3.22it/s]\n",
      "Evaluating: 100%|██████████| 95/95 [00:09<00:00,  9.70it/s]\n"
     ]
    },
    {
     "name": "stdout",
     "output_type": "stream",
     "text": [
      "Epoch 1: train_acc=0.3096, val_acc=0.4891\n"
     ]
    },
    {
     "name": "stderr",
     "output_type": "stream",
     "text": [
      "Training:  88%|████████▊ | 662/754 [03:25<00:28,  3.25it/s]"
     ]
    },
    {
     "ename": "",
     "evalue": "",
     "output_type": "error",
     "traceback": [
      "\u001b[1;31mThe Kernel crashed while executing code in the current cell or a previous cell. \n",
      "\u001b[1;31mPlease review the code in the cell(s) to identify a possible cause of the failure. \n",
      "\u001b[1;31mClick <a href='https://aka.ms/vscodeJupyterKernelCrash'>here</a> for more info. \n",
      "\u001b[1;31mView Jupyter <a href='command:jupyter.viewOutput'>log</a> for further details."
     ]
    }
   ],
   "source": [
    "# === Imports ===\n",
    "import pandas as pd\n",
    "import numpy as np\n",
    "import torch\n",
    "import torch.nn as nn\n",
    "from torch.utils.data import Dataset, DataLoader\n",
    "from transformers import AutoTokenizer, AutoModel, get_scheduler\n",
    "from sklearn.preprocessing import LabelEncoder\n",
    "from sklearn.utils.class_weight import compute_class_weight\n",
    "from sklearn.model_selection import ParameterGrid\n",
    "from torch.optim import AdamW\n",
    "from tqdm import tqdm\n",
    "import pickle\n",
    "import csv\n",
    "import os\n",
    "\n",
    "# === Load Data ===\n",
    "train_df = pd.read_csv(\"splits/train.csv\")\n",
    "val_df = pd.read_csv(\"splits/val.csv\")\n",
    "\n",
    "# === Load Label Encoder ===\n",
    "with open(\"splits/label_encoder.pkl\", \"rb\") as f:\n",
    "    label_encoder = pickle.load(f)\n",
    "\n",
    "num_classes = len(label_encoder.classes_)\n",
    "\n",
    "# === Tokenizer ===\n",
    "tokenizer = AutoTokenizer.from_pretrained(\"dmis-lab/biobert-base-cased-v1.1\")\n",
    "device = torch.device(\"cuda\" if torch.cuda.is_available() else \"cpu\")\n",
    "\n",
    "\n",
    "# === Dataset ===\n",
    "class IntentDataset(Dataset):\n",
    "    def __init__(self, texts, labels, tokenizer, max_len=192):\n",
    "        self.texts = texts\n",
    "        self.labels = labels\n",
    "        self.tokenizer = tokenizer\n",
    "        self.max_len = max_len\n",
    "\n",
    "    def __len__(self):\n",
    "        return len(self.texts)\n",
    "\n",
    "    def __getitem__(self, idx):\n",
    "        text = str(self.texts[idx])\n",
    "        label = self.labels[idx]\n",
    "        encodings = self.tokenizer(text, truncation=True, padding='max_length', max_length=self.max_len, return_tensors=\"pt\")\n",
    "        return {\n",
    "            \"input_ids\": encodings[\"input_ids\"].squeeze(0),\n",
    "            \"attention_mask\": encodings[\"attention_mask\"].squeeze(0),\n",
    "            \"label\": torch.tensor(label, dtype=torch.long)\n",
    "        }\n",
    "\n",
    "# === Model ===\n",
    "class BERTClassifier(nn.Module):\n",
    "    def __init__(self, num_classes, dropout=0.1):\n",
    "        super(BERTClassifier, self).__init__()\n",
    "        self.bert = AutoModel.from_pretrained(\"dmis-lab/biobert-base-cased-v1.1\", trust_remote_code=True, use_safetensors=True)\n",
    "        self.dropout = nn.Dropout(dropout)\n",
    "        self.fc = nn.Linear(self.bert.config.hidden_size, num_classes)\n",
    "\n",
    "    def forward(self, input_ids, attention_mask):\n",
    "        outputs = self.bert(input_ids=input_ids, attention_mask=attention_mask)\n",
    "        pooled_output = outputs.pooler_output\n",
    "        return self.fc(self.dropout(pooled_output))\n",
    "\n",
    "# === Train / Eval Functions ===\n",
    "def train_epoch(model, loader, loss_fn, optimizer, scheduler, device):\n",
    "    model.train()\n",
    "    total_loss, correct, total = 0, 0, 0\n",
    "    for batch in tqdm(loader, desc=\"Training\"):\n",
    "        input_ids = batch[\"input_ids\"].to(device)\n",
    "        attention_mask = batch[\"attention_mask\"].to(device)\n",
    "        labels = batch[\"label\"].to(device)\n",
    "\n",
    "        outputs = model(input_ids, attention_mask)\n",
    "        loss = loss_fn(outputs, labels)\n",
    "\n",
    "        optimizer.zero_grad()\n",
    "        loss.backward()\n",
    "        torch.nn.utils.clip_grad_norm_(model.parameters(), max_norm=1.0)\n",
    "        optimizer.step()\n",
    "        scheduler.step()\n",
    "\n",
    "        total_loss += loss.item()\n",
    "        preds = torch.argmax(outputs, dim=1)\n",
    "        correct += (preds == labels).sum().item()\n",
    "        total += labels.size(0)\n",
    "    return total_loss / total, correct / total\n",
    "\n",
    "def eval_epoch(model, loader, loss_fn, device):\n",
    "    model.eval()\n",
    "    total_loss, correct, total = 0, 0, 0\n",
    "    with torch.no_grad():\n",
    "        for batch in tqdm(loader, desc=\"Evaluating\"):\n",
    "            input_ids = batch[\"input_ids\"].to(device)\n",
    "            attention_mask = batch[\"attention_mask\"].to(device)\n",
    "            labels = batch[\"label\"].to(device)\n",
    "\n",
    "            outputs = model(input_ids, attention_mask)\n",
    "            loss = loss_fn(outputs, labels)\n",
    "\n",
    "            total_loss += loss.item()\n",
    "            preds = torch.argmax(outputs, dim=1)\n",
    "            correct += (preds == labels).sum().item()\n",
    "            total += labels.size(0)\n",
    "    return total_loss / total, correct / total\n",
    "\n",
    "\n",
    "# === Grid Search Setup ===\n",
    "param_grid = {\n",
    "    \"learning_rate\": [3e-5, 1e-5, 2e-5],\n",
    "    \"batch_size\": [16, 32],\n",
    "    \"dropout\": [0.15, 0.1, 0.2],\n",
    "    \"weight_decay\": [0.01, 0.05],\n",
    "    \"warmup_proportion\": [0.05, 0.1, 0.15],\n",
    "    \"boost_factor\": [1.0, 1.3, 1.5, 2.0]\n",
    "}\n",
    "\n",
    "all_params = list(ParameterGrid(param_grid))\n",
    "\n",
    "csv_file = \"gridsearch_results.csv\"\n",
    "with open(csv_file, mode='w', newline='') as f:\n",
    "    writer = csv.writer(f)\n",
    "    writer.writerow(list(param_grid.keys()) + [\"val_accuracy\"])\n",
    "\n",
    "best_overall_acc = 0\n",
    "best_overall_params = None\n",
    "\n",
    "for params in all_params:\n",
    "    print(f\"\\n🚀 Trying config: {params}\")\n",
    "\n",
    "    # Clear GPU\n",
    "    torch.cuda.empty_cache()\n",
    "    torch.cuda.ipc_collect()\n",
    "\n",
    "    # Dataset\n",
    "    train_dataset = IntentDataset(train_df[\"text\"], train_df[\"label\"], tokenizer)\n",
    "    val_dataset = IntentDataset(val_df[\"text\"], val_df[\"label\"], tokenizer)\n",
    "    train_loader = DataLoader(train_dataset, batch_size=params[\"batch_size\"], shuffle=True)\n",
    "    val_loader = DataLoader(val_dataset, batch_size=params[\"batch_size\"])\n",
    "\n",
    "    # Class weights\n",
    "    class_weights = compute_class_weight('balanced', classes=np.unique(train_df['label']), y=train_df['label'])\n",
    "    class_weights_tensor = torch.tensor(class_weights, dtype=torch.float).to(device)\n",
    "\n",
    "    # Boost underperforming classes\n",
    "    boost_labels = [\"treatment\", \"treatment method\", \"symptoms\", \"disease manifestations\"]\n",
    "    boost_indices = label_encoder.transform(boost_labels)\n",
    "    for idx in boost_indices:\n",
    "        class_weights_tensor[idx] *= params[\"boost_factor\"]\n",
    "\n",
    "    model = BERTClassifier(num_classes, dropout=params[\"dropout\"]).to(device)\n",
    "    loss_fn = nn.CrossEntropyLoss(weight=class_weights_tensor)\n",
    "    optimizer = AdamW(model.parameters(), lr=params[\"learning_rate\"], weight_decay=params[\"weight_decay\"])\n",
    "\n",
    "    num_epochs = 10\n",
    "    total_steps = len(train_loader) * num_epochs\n",
    "    warmup_steps = int(params[\"warmup_proportion\"] * total_steps)\n",
    "    scheduler = get_scheduler(\"linear\", optimizer=optimizer, num_warmup_steps=warmup_steps, num_training_steps=total_steps)\n",
    "\n",
    "    best_val_acc = 0\n",
    "    patience = 2\n",
    "    patience_counter = 0\n",
    "\n",
    "    for epoch in range(num_epochs):\n",
    "        train_loss, train_acc = train_epoch(model, train_loader, loss_fn, optimizer, scheduler, device)\n",
    "        val_loss, val_acc = eval_epoch(model, val_loader, loss_fn, device)\n",
    "        print(f\"Epoch {epoch+1}: train_acc={train_acc:.4f}, val_acc={val_acc:.4f}\")\n",
    "\n",
    "        if val_acc > best_val_acc:\n",
    "            best_val_acc = val_acc\n",
    "            patience_counter = 0\n",
    "        else:\n",
    "            patience_counter += 1\n",
    "            if patience_counter >= patience:\n",
    "                print(\"⛔ Early stopping\")\n",
    "                break\n",
    "\n",
    "    with open(csv_file, mode='a', newline='') as f:\n",
    "        writer = csv.writer(f)\n",
    "        writer.writerow([params[k] for k in param_grid.keys()] + [round(best_val_acc, 4)])\n",
    "\n",
    "    if best_val_acc > best_overall_acc:\n",
    "        best_overall_acc = best_val_acc\n",
    "        best_overall_params = params\n",
    "\n",
    "print(\"\\n✅ Grid search complete. Results saved to:\", csv_file)\n",
    "print(f\"\\n🎉 Best overall val_accuracy: {best_overall_acc:.4f}\")\n",
    "print(\"Best hyperparameters:\")\n",
    "for k, v in best_overall_params.items():\n",
    "    print(f\"  {k}: {v}\")\n"
   ]
  }
 ],
 "metadata": {
  "kernelspec": {
   "display_name": "myenv",
   "language": "python",
   "name": "python3"
  },
  "language_info": {
   "codemirror_mode": {
    "name": "ipython",
    "version": 3
   },
   "file_extension": ".py",
   "mimetype": "text/x-python",
   "name": "python",
   "nbconvert_exporter": "python",
   "pygments_lexer": "ipython3",
   "version": "3.10.11"
  }
 },
 "nbformat": 4,
 "nbformat_minor": 5
}
