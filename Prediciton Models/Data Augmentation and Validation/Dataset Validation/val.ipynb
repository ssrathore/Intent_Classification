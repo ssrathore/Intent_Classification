{
 "cells": [
  {
   "cell_type": "code",
   "execution_count": null,
   "id": "59e1f139",
   "metadata": {},
   "outputs": [
    {
     "name": "stderr",
     "output_type": "stream",
     "text": [
      "c:\\Users\\S.SHIKHAR\\Desktop\\Intent Classification with dataset\\myenv\\lib\\site-packages\\huggingface_hub\\file_download.py:943: FutureWarning: `resume_download` is deprecated and will be removed in version 1.0.0. Downloads always resume when possible. If you want to force a new download, use `force_download=True`.\n",
      "  warnings.warn(\n"
     ]
    },
    {
     "name": "stdout",
     "output_type": "stream",
     "text": [
      "Calculating perplexity for original dataset...\n",
      "Calculating perplexity for Original_augmented dataset...\n",
      "Average Perplexity - Original Dataset: 538.78\n",
      "Average Perplexity - Original_Augmented Dataset: 852.99\n"
     ]
    }
   ],
   "source": [
    "import pandas as pd\n",
    "from transformers import GPT2Tokenizer, GPT2LMHeadModel\n",
    "# from transformers import AutoTokenizer, AutoModelForCausalLM\n",
    "import torch  # Go to readme for installation instructions\n",
    "import math\n",
    "\n",
    "# Load datasets\n",
    "original = pd.read_csv(\"intent_dataset.csv\")\n",
    "augmented = pd.read_csv(\"random_augmented_balanced_dataset.csv\")\n",
    "\n",
    "# Change 'text' below to the actual column name containing your sentences\n",
    "original_texts = original['text'].dropna().tolist()\n",
    "augmented_texts = augmented['text'].dropna().tolist()\n",
    "\n",
    "# Load GPT-2 tokenizer and model\n",
    "tokenizer = GPT2Tokenizer.from_pretrained('gpt2')\n",
    "model = GPT2LMHeadModel.from_pretrained('gpt2')\n",
    "\n",
    "# model_name = \"EleutherAI/gpt-j-6B\"  # or try \"EleutherAI/gpt-neo-2.7B\"\n",
    "# tokenizer = AutoTokenizer.from_pretrained(model_name)\n",
    "# model = AutoModelForCausalLM.from_pretrained(model_name)\n",
    "model.eval()\n",
    "\n",
    "if torch.cuda.is_available():\n",
    "    model = model.to('cuda')\n",
    "\n",
    "def compute_perplexity(texts):\n",
    "    perplexities = []\n",
    "    for text in texts:\n",
    "        # Encode text and get input IDs tensor\n",
    "        encodings = tokenizer(text, return_tensors='pt')\n",
    "        input_ids = encodings.input_ids\n",
    "        if torch.cuda.is_available():\n",
    "            input_ids = input_ids.to('cuda')\n",
    "        \n",
    "        with torch.no_grad():\n",
    "            outputs = model(input_ids, labels=input_ids)\n",
    "            # outputs.loss is the average negative log likelihood per token\n",
    "            neg_log_likelihood = outputs.loss.item() * input_ids.size(1)\n",
    "        \n",
    "        ppl = math.exp(neg_log_likelihood / input_ids.size(1))\n",
    "        perplexities.append(ppl)\n",
    "    return sum(perplexities) / len(perplexities)\n",
    "\n",
    "# Compute average perplexity for original and augmented sets\n",
    "print(\"Calculating perplexity for original dataset...\")\n",
    "ppl_original = compute_perplexity(original_texts)\n",
    "\n",
    "print(\"Calculating perplexity for Original_augmented dataset...\")\n",
    "ppl_augmented = compute_perplexity(augmented_texts)\n",
    "\n",
    "print(f\"Average Perplexity - Original Dataset: {ppl_original:.2f}\")\n",
    "print(f\"Average Perplexity - Original_Augmented Dataset: {ppl_augmented:.2f}\")\n"
   ]
  },
  {
   "cell_type": "code",
   "execution_count": 8,
   "id": "35adeb70",
   "metadata": {},
   "outputs": [
    {
     "name": "stderr",
     "output_type": "stream",
     "text": [
      "[nltk_data] Downloading package punkt to\n",
      "[nltk_data]     C:\\Users\\S.SHIKHAR\\AppData\\Roaming\\nltk_data...\n",
      "[nltk_data]   Package punkt is already up-to-date!\n"
     ]
    },
    {
     "name": "stdout",
     "output_type": "stream",
     "text": [
      "1-gram KL Divergence (Original || Augmented): 0.0269\n",
      "2-gram KL Divergence (Original || Augmented): 0.1111\n",
      "3-gram KL Divergence (Original || Augmented): 0.1884\n"
     ]
    }
   ],
   "source": [
    "from collections import Counter\n",
    "import pandas as pd\n",
    "import math\n",
    "import nltk\n",
    "nltk.download('punkt')\n",
    "from nltk.tokenize import word_tokenize\n",
    "\n",
    "# Load your datasets (already loaded as 'original' and 'augmented')\n",
    "original_texts = original['text'].dropna().tolist()\n",
    "augmented_texts = augmented['text'].dropna().tolist()\n",
    "\n",
    "# Helper: Extract n-grams (bigrams, trigrams, etc.)\n",
    "def get_ngrams(tokens, n):\n",
    "    return [tuple(tokens[i:i+n]) for i in range(len(tokens)-n+1)]\n",
    "\n",
    "# Helper: Convert text list to normalized n-gram distribution\n",
    "def get_ngram_distribution(texts, n=2):\n",
    "    ngram_counter = Counter()\n",
    "    total = 0\n",
    "    for text in texts:\n",
    "        tokens = word_tokenize(text.lower())\n",
    "        ngrams = get_ngrams(tokens, n)\n",
    "        ngram_counter.update(ngrams)\n",
    "        total += len(ngrams)\n",
    "    # Normalize to probabilities\n",
    "    dist = {k: v/total for k, v in ngram_counter.items()}\n",
    "    return dist\n",
    "\n",
    "# KL Divergence: P (original) vs Q (augmented)\n",
    "def kl_divergence(P, Q, epsilon=1e-10):\n",
    "    divergence = 0.0\n",
    "    for ng, p_prob in P.items():\n",
    "        q_prob = Q.get(ng, epsilon)  # smoothing for missing n-grams\n",
    "        divergence += p_prob * math.log(p_prob / q_prob)\n",
    "    return divergence\n",
    "\n",
    "# Compute distributions and KL divergence for different n-grams\n",
    "for n in [1, 2, 3]:\n",
    "    P = get_ngram_distribution(original_texts, n=n)\n",
    "    Q = get_ngram_distribution(augmented_texts, n=n)\n",
    "    kl_score = kl_divergence(P, Q)\n",
    "    print(f\"{n}-gram KL Divergence (Original || Augmented): {kl_score:.4f}\")\n"
   ]
  }
 ],
 "metadata": {
  "kernelspec": {
   "display_name": "myenv",
   "language": "python",
   "name": "python3"
  },
  "language_info": {
   "codemirror_mode": {
    "name": "ipython",
    "version": 3
   },
   "file_extension": ".py",
   "mimetype": "text/x-python",
   "name": "python",
   "nbconvert_exporter": "python",
   "pygments_lexer": "ipython3",
   "version": "3.10.11"
  }
 },
 "nbformat": 4,
 "nbformat_minor": 5
}
