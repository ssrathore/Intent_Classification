{
 "cells": [
  {
   "cell_type": "code",
   "execution_count": 1,
   "id": "0764b52e",
   "metadata": {},
   "outputs": [
    {
     "name": "stdout",
     "output_type": "stream",
     "text": [
      "Calculating perplexities...\n"
     ]
    },
    {
     "name": "stderr",
     "output_type": "stream",
     "text": [
      "  0%|          | 0/15074 [00:00<?, ?it/s]`loss_type=None` was set in the config but it is unrecognised.Using the default loss: `ForCausalLMLoss`.\n",
      "100%|██████████| 15074/15074 [01:42<00:00, 146.61it/s]"
     ]
    },
    {
     "name": "stdout",
     "output_type": "stream",
     "text": [
      "Filtered 1389 rows. Kept 13685 samples.\n"
     ]
    },
    {
     "name": "stderr",
     "output_type": "stream",
     "text": [
      "\n"
     ]
    }
   ],
   "source": [
    "import pandas as pd\n",
    "from transformers import GPT2Tokenizer, GPT2LMHeadModel\n",
    "import torch\n",
    "import math\n",
    "from tqdm import tqdm\n",
    "\n",
    "# Load augmented dataset\n",
    "augmented = pd.read_csv(\"random_augmented_balanced_dataset.csv\")\n",
    "texts = augmented['text'].dropna().tolist()\n",
    "\n",
    "# Load GPT-2\n",
    "tokenizer = GPT2Tokenizer.from_pretrained('gpt2')\n",
    "model = GPT2LMHeadModel.from_pretrained('gpt2')\n",
    "model.eval()\n",
    "if torch.cuda.is_available():\n",
    "    model = model.to('cuda')\n",
    "\n",
    "# Perplexity calculation function\n",
    "def calculate_perplexity(text):\n",
    "    encodings = tokenizer(text, return_tensors='pt', truncation=True, max_length=512)\n",
    "    input_ids = encodings.input_ids\n",
    "    if torch.cuda.is_available():\n",
    "        input_ids = input_ids.to('cuda')\n",
    "    with torch.no_grad():\n",
    "        outputs = model(input_ids, labels=input_ids)\n",
    "        neg_log_likelihood = outputs.loss.item() * input_ids.size(1)\n",
    "    return math.exp(neg_log_likelihood / input_ids.size(1))\n",
    "\n",
    "# Compute perplexity for each text\n",
    "perplexities = []\n",
    "print(\"Calculating perplexities...\")\n",
    "for text in tqdm(texts):\n",
    "    try:\n",
    "        ppl = calculate_perplexity(text)\n",
    "    except Exception as e:\n",
    "        ppl = float('inf')  # In case of error\n",
    "    perplexities.append(ppl)\n",
    "\n",
    "# Add perplexity column\n",
    "augmented['perplexity'] = perplexities\n",
    "\n",
    "# Define threshold (you can change it)\n",
    "threshold = 600\n",
    "\n",
    "# Filter low-perplexity rows\n",
    "filtered = augmented[augmented['perplexity'] <= threshold]\n",
    "\n",
    "# Save filtered dataset\n",
    "filtered.to_csv(\"augmented_filtered_by_perplexity.csv\", index=False)\n",
    "\n",
    "print(f\"Filtered {len(augmented) - len(filtered)} rows. Kept {len(filtered)} samples.\")\n"
   ]
  }
 ],
 "metadata": {
  "kernelspec": {
   "display_name": "myenv",
   "language": "python",
   "name": "python3"
  },
  "language_info": {
   "codemirror_mode": {
    "name": "ipython",
    "version": 3
   },
   "file_extension": ".py",
   "mimetype": "text/x-python",
   "name": "python",
   "nbconvert_exporter": "python",
   "pygments_lexer": "ipython3",
   "version": "3.10.11"
  }
 },
 "nbformat": 4,
 "nbformat_minor": 5
}
